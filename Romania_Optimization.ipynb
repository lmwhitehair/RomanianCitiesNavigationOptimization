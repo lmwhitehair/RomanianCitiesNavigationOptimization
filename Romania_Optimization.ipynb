{
 "cells": [
  {
   "cell_type": "code",
   "execution_count": 1,
   "id": "ef72d166",
   "metadata": {},
   "outputs": [],
   "source": [
    "import pandas as pd\n",
    "import numpy  as np\n",
    "import sys\n",
    "import heapq"
   ]
  },
  {
   "cell_type": "markdown",
   "id": "d11bfa93",
   "metadata": {},
   "source": [
    "The Romanian graph represented as a dictionary. The key is the node and the value is a list of neighbors and weights. The first value in the list is the node followed by the weight between the nodes."
   ]
  },
  {
   "cell_type": "code",
   "execution_count": 2,
   "id": "4955c94e",
   "metadata": {},
   "outputs": [],
   "source": [
    "graph = {0: [[1, 118], [2, 75], [5, 140]], 1: [[0, 118], [4, 111]], \n",
    "         2: [[0, 75], [3, 71]], 3: [[2, 71], [5, 151]], 4: [[1, 111], [6, 70]], \n",
    "         5: [[3, 151], [0, 140], [7, 80], [8, 99]], 6: [[4, 70], [9, 75]], \n",
    "         7: [[5, 80], [10, 146], [11, 97]], 8: [[5, 99], [12, 211]], \n",
    "         9: [[6, 75], [10, 120]], 10: [[9, 120], [7, 146], [11, 138]], \n",
    "         11: [[7, 97], [10, 138], [12, 101]], 12: [[11, 101], [15, 90], [8, 211], [16, 85]],\n",
    "         13: [[14, 87]], 14: [[13, 87], [17, 92]], 15: [[12, 90]], \n",
    "         16: [[12, 85], [17, 142], [18, 98]], 17: [[14, 92], [16, 142]], \n",
    "         18: [[16, 98], [19, 86]], 19: [[18, 86]]}"
   ]
  },
  {
   "cell_type": "markdown",
   "id": "bfc17eee",
   "metadata": {},
   "source": [
    "Implementation of Dijkstra's algorithm/uniform cost search algorithm"
   ]
  },
  {
   "cell_type": "code",
   "execution_count": 3,
   "id": "2bd1dc06",
   "metadata": {},
   "outputs": [],
   "source": [
    "def dijkstra(graph, start, goal):\n",
    "\n",
    "  # initialize all distances to infinity\n",
    "  distances = {node: float('inf') for node in graph}\n",
    "  # set starting node to 0\n",
    "  distances[start] = 0\n",
    "  # priority queue to hold nodes \n",
    "  queue = [(0, start)]\n",
    "  # dictionary to store previous node \n",
    "  previous = {node: None for node in graph}\n",
    "\n",
    "  # used to keep track of iterations\n",
    "  count = 1\n",
    "\n",
    "  while queue:\n",
    "    # get node with smallest distance from start \n",
    "    current_distance, current_node = heapq.heappop(queue)\n",
    "\n",
    "    print(\"Iteration\", count, \":\", end = \" \")\n",
    "\n",
    "    # check if goal is reached\n",
    "    if current_node == goal:\n",
    "      break\n",
    "\n",
    "    # skip if a shorter distanced has been found \n",
    "    if current_distance > distances[current_node]:\n",
    "      continue\n",
    "\n",
    "    # process all neighbors \n",
    "    for neighbor, distance in graph[current_node]:\n",
    "\n",
    "      # calculate new distance \n",
    "      new_distance = current_distance + distance\n",
    "    \n",
    "      # update distance if shorter \n",
    "      if new_distance < distances[neighbor]:\n",
    "        distances[neighbor] = new_distance\n",
    "        previous[neighbor] = current_node\n",
    "        heapq.heappush(queue, (new_distance, neighbor))\n",
    "\n",
    "    # printing the nodes that are being processed\n",
    "    cur_node = current_node\n",
    "    prev_node = previous[cur_node]\n",
    "    print(prev_node, \"->\", cur_node)\n",
    "\n",
    "    count += 1\n",
    "\n",
    "  # storing the optimized path\n",
    "  path = []\n",
    "  current_node = goal\n",
    "  while current_node is not None:\n",
    "    path.append(current_node)\n",
    "    current_node = previous[current_node]\n",
    "\n",
    "  path.reverse()\n",
    "\n",
    "\n",
    "  return distances[goal], path"
   ]
  },
  {
   "cell_type": "code",
   "execution_count": 4,
   "id": "c80d092a",
   "metadata": {},
   "outputs": [
    {
     "name": "stdout",
     "output_type": "stream",
     "text": [
      "Input start node: 2\n",
      "Input goal node: 6\n"
     ]
    }
   ],
   "source": [
    "start = input(\"Input start node: \")\n",
    "goal = input(\"Input goal node: \")"
   ]
  },
  {
   "cell_type": "markdown",
   "id": "968c8c20",
   "metadata": {},
   "source": [
    "Ouput: The optimized path is indicated by keyword FINAL. The first number is total cost, the proceeding list is the order of nodes for the optimal path. Each iteration represents the previous node that was processed and the node that is currently being processed."
   ]
  },
  {
   "cell_type": "code",
   "execution_count": 5,
   "id": "525139c1",
   "metadata": {},
   "outputs": [
    {
     "name": "stdout",
     "output_type": "stream",
     "text": [
      "Iteration 1 : None -> 2\n",
      "Iteration 2 : 2 -> 3\n",
      "Iteration 3 : 2 -> 0\n",
      "Iteration 4 : 0 -> 1\n",
      "Iteration 5 : 0 -> 5\n",
      "Iteration 6 : Iteration 6 : 5 -> 7\n",
      "Iteration 7 : 1 -> 4\n",
      "Iteration 8 : 5 -> 8\n",
      "Iteration 9 : FINAL:  (374, [2, 0, 1, 4, 6])\n"
     ]
    }
   ],
   "source": [
    "print(\"FINAL: \", dijkstra(graph, int(start), int(goal)))"
   ]
  }
 ],
 "metadata": {
  "kernelspec": {
   "display_name": "gpu2",
   "language": "python",
   "name": "gpu2"
  },
  "language_info": {
   "codemirror_mode": {
    "name": "ipython",
    "version": 3
   },
   "file_extension": ".py",
   "mimetype": "text/x-python",
   "name": "python",
   "nbconvert_exporter": "python",
   "pygments_lexer": "ipython3",
   "version": "3.10.10"
  }
 },
 "nbformat": 4,
 "nbformat_minor": 5
}
